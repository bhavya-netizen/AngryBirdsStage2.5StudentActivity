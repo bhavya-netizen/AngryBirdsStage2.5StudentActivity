{
  "nbformat": 4,
  "nbformat_minor": 0,
  "metadata": {
    "colab": {
      "name": "c-100",
      "provenance": [],
      "collapsed_sections": [],
      "authorship_tag": "ABX9TyNGfSvg4i0GPTzb6TuB9zMc",
      "include_colab_link": true
    },
    "kernelspec": {
      "name": "python3",
      "display_name": "Python 3"
    },
    "language_info": {
      "name": "python"
    }
  },
  "cells": [
    {
      "cell_type": "markdown",
      "metadata": {
        "id": "view-in-github",
        "colab_type": "text"
      },
      "source": [
        "<a href=\"https://colab.research.google.com/github/bhavya-netizen/AngryBirdsStage2.5StudentActivity/blob/master/c_100.ipynb\" target=\"_parent\"><img src=\"https://colab.research.google.com/assets/colab-badge.svg\" alt=\"Open In Colab\"/></a>"
      ]
    },
    {
      "cell_type": "code",
      "execution_count": 4,
      "metadata": {
        "colab": {
          "base_uri": "https://localhost:8080/"
        },
        "id": "Q9jyJvx0lMlE",
        "outputId": "61e52cc8-c259-4a97-cd6b-618dcd07c6e6"
      },
      "outputs": [
        {
          "output_type": "stream",
          "name": "stdout",
          "text": [
            "accelerate\n",
            "None\n"
          ]
        }
      ],
      "source": [
        "class Car(object):\n",
        "\n",
        "  def __init__(self, model, color, company, speed_limit):\n",
        "    self.model = model\n",
        "    self.color = color\n",
        "    self.company = company\n",
        "    self.speed_limit = speed_limit\n",
        "  \n",
        "  def start(self):\n",
        "    print(\"started\")\n",
        "\n",
        "  def stop(self):\n",
        "    print(\"stopped\")\n",
        "\n",
        "  def accelerate(self):\n",
        "    print(\"accelerate\")\n",
        "\n",
        "audi = Car(\"A6\", \"blue\", \"audi\", \"80\")\n",
        "ferrari = Car(\"roma\", \"red\", \"ferrari\", \"70\")\n",
        "\n",
        "ferrari.speed_limit\n",
        "\n",
        "print(audi.accelerate())"
      ]
    }
  ]
}